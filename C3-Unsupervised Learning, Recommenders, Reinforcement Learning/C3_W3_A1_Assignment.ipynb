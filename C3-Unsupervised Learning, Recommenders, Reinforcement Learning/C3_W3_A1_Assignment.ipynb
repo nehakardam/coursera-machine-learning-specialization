{
 "cells": [
  {
   "cell_type": "markdown",
   "metadata": {},
   "source": [
    "# Deep Q-Learning - Lunar Lander\n",
    "\n",
    "In this assignment, you will train an agent to land a lunar lander safely on a landing pad on the surface of the moon.\n",
    "\n",
    "\n",
    "# Outline\n",
    "- [ 1 - Import Packages <img align=\"Right\" src=\"./images/lunar_lander.gif\" width = 60% >](#1)\n",
    "- [ 2 - Hyperparameters](#2)\n",
    "- [ 3 - The Lunar Lander Environment](#3)\n",
    "  - [ 3.1 Action Space](#3.1)\n",
    "  - [ 3.2 Observation Space](#3.2)\n",
    "  - [ 3.3 Rewards](#3.3)\n",
    "  - [ 3.4 Episode Termination](#3.4)\n",
    "- [ 4 - Load the Environment](#4)\n",
    "- [ 5 - Interacting with the Gym Environment](#5)\n",
    "    - [ 5.1 Exploring the Environment's Dynamics](#5.1)\n",
    "- [ 6 - Deep Q-Learning](#6)\n",
    "  - [ 6.1 Target Network](#6.1)\n",
    "    - [ Exercise 1](#ex01)\n",
    "  - [ 6.2 Experience Replay](#6.2)\n",
    "- [ 7 - Deep Q-Learning Algorithm with Experience Replay](#7)\n",
    "  - [ Exercise 2](#ex02)\n",
    "- [ 8 - Update the Network Weights](#8)\n",
    "- [ 9 - Train the Agent](#9)\n",
    "- [ 10 - See the Trained Agent In Action](#10)\n",
    "- [ 11 - Congratulations!](#11)\n",
    "- [ 12 - References](#12)\n"
   ]
  },
  {
   "cell_type": "markdown",
   "metadata": {},
   "source": [
    "_**NOTE:** To prevent errors from the autograder, you are not allowed to edit or delete non-graded cells in this lab. Please also refrain from adding any new cells. \n",
    "**Once you have passed this assignment** and want to experiment with any of the non-graded code, you may follow the instructions at the bottom of this notebook._"
   ]
  },
  {
   "cell_type": "markdown",
   "metadata": {},
   "source": [
    "<a name=\"1\"></a>\n",
    "## 1 - Import Packages\n",
    "\n",
    "We'll make use of the following packages:\n",
    "- `numpy` is a package for scientific computing in python.\n",
    "- `deque` will be our data structure for our memory buffer.\n",
    "- `namedtuple` will be used to store the experience tuples.\n",
    "- The `gym` toolkit is a collection of environments that can be used to test reinforcement learning algorithms. We should note that in this notebook we are using `gym` version `0.24.0`.\n",
    "- `PIL.Image` and `pyvirtualdisplay` are needed to render the Lunar Lander environment.\n",
    "- We will use several modules from the `tensorflow.keras` framework for building deep learning models.\n",
    "- `utils` is a module that contains helper functions for this assignment. You do not need to modify the code in this file.\n",
    "\n",
    "Run the cell below to import all the necessary packages."
   ]
  },
  {
   "cell_type": "code",
   "execution_count": 22,
   "metadata": {
    "deletable": false,
    "editable": false,
    "id": "KYbOPKRtfQOr"
   },
   "outputs": [],
   "source": [
    "import time\n",
    "from collections import deque, namedtuple\n",
    "\n",
    "import gym\n",
    "import numpy as np\n",
    "import PIL.Image\n",
    "import tensorflow as tf\n",
    "import utils\n",
    "\n",
    "from pyvirtualdisplay import Display\n",
    "from tensorflow.keras import Sequential\n",
    "from tensorflow.keras.layers import Dense, Input\n",
    "from tensorflow.keras.losses import MSE\n",
    "from tensorflow.keras.optimizers import Adam"
   ]
  },
  {
   "cell_type": "code",
   "execution_count": 2,
   "metadata": {
    "deletable": false,
    "editable": false
   },
   "outputs": [],
   "source": [
    "# Set up a virtual display to render the Lunar Lander environment.\n",
    "Display(visible=0, size=(840, 480)).start();\n",
    "\n",
    "# Set the random seed for TensorFlow\n",
    "tf.random.set_seed(utils.SEED)"
   ]
  },
  {
   "cell_type": "markdown",
   "metadata": {},
   "source": [
    "<a name=\"2\"></a>\n",
    "## 2 - Hyperparameters\n",
    "\n",
    "Run the cell below to set the hyperparameters."
   ]
  },
  {
   "cell_type": "code",
   "execution_count": 4,
   "metadata": {
    "deletable": false,
    "editable": false
   },
   "outputs": [],
   "source": [
    "MEMORY_SIZE = 100_000     # size of memory buffer\n",
    "GAMMA = 0.995             # discount factor\n",
    "ALPHA = 1e-3              # learning rate  \n",
    "NUM_STEPS_FOR_UPDATE = 4  # perform a learning update every C time steps"
   ]
  },
  {
   "cell_type": "markdown",
   "metadata": {},
   "source": [
    "<a name=\"3\"></a>\n",
    "## 3 - The Lunar Lander Environment\n",
    "\n",
    "In this notebook we will be using [OpenAI's Gym Library](https://www.gymlibrary.dev/). The Gym library provides a wide variety of environments for reinforcement learning. To put it simply, an environment represents a problem or task to be solved. In this notebook, we will try to solve the Lunar Lander environment using reinforcement learning.\n",
    "\n",
    "The goal of the Lunar Lander environment is to land the lunar lander safely on the landing pad on the surface of the moon. The landing pad is designated by two flag poles and its center is at coordinates `(0,0)` but the lander is also allowed to land outside of the landing pad. The lander starts at the top center of the environment with a random initial force applied to its center of mass and has infinite fuel. The environment is considered solved if you get `200` points. \n",
    "\n",
    "<br>\n",
    "<br>\n",
    "<figure>\n",
    "  <img src = \"images/lunar_lander.gif\" width = 40%>\n",
    "      <figcaption style = \"text-align: center; font-style: italic\">Fig 1. Lunar Lander Environment.</figcaption>\n",
    "</figure>\n",
    "\n",
    "\n",
    "\n",
    "<a name=\"3.1\"></a>\n",
    "### 3.1 Action Space\n",
    "\n",
    "The agent has four discrete actions available:\n",
    "\n",
    "* Do nothing.\n",
    "* Fire right engine.\n",
    "* Fire main engine.\n",
    "* Fire left engine.\n",
    "\n",
    "Each action has a corresponding numerical value:\n",
    "\n",
    "```python\n",
    "Do nothing = 0\n",
    "Fire right engine = 1\n",
    "Fire main engine = 2\n",
    "Fire left engine = 3\n",
    "```\n",
    "\n",
    "<a name=\"3.2\"></a>\n",
    "### 3.2 Observation Space\n",
    "\n",
    "The agent's observation space consists of a state vector with 8 variables:\n",
    "\n",
    "* Its $(x,y)$ coordinates. The landing pad is always at coordinates $(0,0)$.\n",
    "* Its linear velocities $(\\dot x,\\dot y)$.\n",
    "* Its angle $\\theta$.\n",
    "* Its angular velocity $\\dot \\theta$.\n",
    "* Two booleans, $l$ and $r$, that represent whether each leg is in contact with the ground or not.\n",
    "\n",
    "<a name=\"3.3\"></a>\n",
    "### 3.3 Rewards\n",
    "\n",
    "After every step, a reward is granted. The total reward of an episode is the sum of the rewards for all the steps within that episode.\n",
    "\n",
    "For each step, the reward:\n",
    "- is increased/decreased the closer/further the lander is to the landing pad.\n",
    "- is increased/decreased the slower/faster the lander is moving.\n",
    "- is decreased the more the lander is tilted (angle not horizontal).\n",
    "- is increased by 10 points for each leg that is in contact with the ground.\n",
    "- is decreased by 0.03 points each frame a side engine is firing.\n",
    "- is decreased by 0.3 points each frame the main engine is firing.\n",
    "\n",
    "The episode receives an additional reward of -100 or +100 points for crashing or landing safely respectively.\n",
    "\n",
    "<a name=\"3.4\"></a>\n",
    "### 3.4 Episode Termination\n",
    "\n",
    "An episode ends (i.e the environment enters a terminal state) if:\n",
    "\n",
    "* The lunar lander crashes (i.e if the body of the lunar lander comes in contact with the surface of the moon).\n",
    "\n",
    "* The absolute value of the lander's $x$-coordinate is greater than 1 (i.e. it goes beyond the left or right border)\n",
    "\n",
    "You can check out the [Open AI Gym documentation](https://www.gymlibrary.dev/environments/box2d/lunar_lander/) for a full description of the environment. "
   ]
  },
  {
   "cell_type": "markdown",
   "metadata": {},
   "source": [
    "<a name=\"4\"></a>\n",
    "## 4 - Load the Environment\n",
    "\n",
    "We start by loading the `LunarLander-v2` environment from the `gym` library by using the `.make()` method. `LunarLander-v2` is the latest version of the Lunar Lander environment and you can read about its version history in the [Open AI Gym documentation](https://www.gymlibrary.dev/environments/box2d/lunar_lander/#version-history)."
   ]
  },
  {
   "cell_type": "code",
   "execution_count": 5,
   "metadata": {
    "deletable": false,
    "editable": false,
    "id": "ILVMYKewfR0n"
   },
   "outputs": [],
   "source": [
    "env = gym.make('LunarLander-v2')"
   ]
  },
  {
   "cell_type": "markdown",
   "metadata": {},
   "source": [
    "Once we load the environment we use the `.reset()` method to reset the environment to the initial state. The lander starts at the top center of the environment and we can render the first frame of the environment by using the `.render()` method."
   ]
  },
  {
   "cell_type": "code",
   "execution_count": 6,
   "metadata": {
    "deletable": false,
    "editable": false
   },
   "outputs": [
    {
     "data": {
      "image/png": "[encoded data removed]",
      "text/plain": [
       "<PIL.Image.Image image mode=RGB size=600x400 at 0x7FD40F60FC90>"
      ]
     },
     "execution_count": 6,
     "metadata": {},
     "output_type": "execute_result"
    }
   ],
   "source": [
    "env.reset()\n",
    "PIL.Image.fromarray(env.render(mode='rgb_array'))"
   ]
  },
  {
   "cell_type": "markdown",
   "metadata": {},
   "source": [
    "In order to build our neural network later on we need to know the size of the state vector and the number of valid actions. We can get this information from our environment by using the `.observation_space.shape` and `action_space.n` methods, respectively."
   ]
  },
  {
   "cell_type": "code",
   "execution_count": 7,
   "metadata": {
    "deletable": false,
    "editable": false,
    "id": "x3fdqdG4CUu2"
   },
   "outputs": [
    {
     "name": "stdout",
     "output_type": "stream",
     "text": [
      "State Shape: (8,)\n",
      "Number of actions: 4\n"
     ]
    }
   ],
   "source": [
    "state_size = env.observation_space.shape\n",
    "num_actions = env.action_space.n\n",
    "\n",
    "print('State Shape:', state_size)\n",
    "print('Number of actions:', num_actions)"
   ]
  },
  {
   "cell_type": "markdown",
   "metadata": {},
   "source": [
    "<a name=\"5\"></a>\n",
    "## 5 - Interacting with the Gym Environment\n",
    "\n",
    "The Gym library implements the standard “agent-environment loop” formalism:\n",
    "\n",
    "<br>\n",
    "<center>\n",
    "<video src = \"./videos/rl_formalism.m4v\" width=\"840\" height=\"480\" controls autoplay loop poster=\"./images/rl_formalism.png\"> </video>\n",
    "<figcaption style = \"text-align:center; font-style:italic\">Fig 2. Agent-environment Loop Formalism.</figcaption>\n",
    "</center>\n",
    "<br>\n",
    "\n",
    "In the standard “agent-environment loop” formalism, an agent interacts with the environment in discrete time steps $t=0,1,2,...$. At each time step $t$, the agent uses a policy $\\pi$ to select an action $A_t$ based on its observation of the environment's state $S_t$. The agent receives a numerical reward $R_t$ and on the next time step, moves to a new state $S_{t+1}$.\n",
    "\n",
    "<a name=\"5.1\"></a>\n",
    "### 5.1 Exploring the Environment's Dynamics\n",
    "\n",
    "In Open AI's Gym environments, we use the `.step()` method to run a single time step of the environment's dynamics. In the version of `gym` that we are using the `.step()` method accepts an action and returns four values:\n",
    "\n",
    "* `observation` (**object**): an environment-specific object representing your observation of the environment. In the Lunar Lander environment this corresponds to a numpy array containing the positions and velocities of the lander as described in section [3.2 Observation Space](#3.2).\n",
    "\n",
    "\n",
    "* `reward` (**float**): amount of reward returned as a result of taking the given action. In the Lunar Lander environment this corresponds to a float of type `numpy.float64` as described in section [3.3 Rewards](#3.3).\n",
    "\n",
    "\n",
    "* `done` (**boolean**): When done is `True`, it indicates the episode has terminated and it’s time to reset the environment. \n",
    "\n",
    "\n",
    "* `info` (**dictionary**): diagnostic information useful for debugging. We won't be using this variable in this notebook but it is shown here for completeness.\n",
    "\n",
    "To begin an episode, we need to reset the environment to an initial state. We do this by using the `.reset()` method. "
   ]
  },
  {
   "cell_type": "code",
   "execution_count": 8,
   "metadata": {
    "deletable": false,
    "editable": false
   },
   "outputs": [],
   "source": [
    "# Reset the environment and get the initial state.\n",
    "current_state = env.reset()"
   ]
  },
  {
   "cell_type": "markdown",
   "metadata": {},
   "source": [
    "Once the environment is reset, the agent can start taking actions in the environment by using the `.step()` method. Note that the agent can only take one action per time step. \n",
    "\n",
    "In the cell below you can select different actions and see how the returned values change depending on the action taken. Remember that in this environment the agent has four discrete actions available and we specify them in code by using their corresponding numerical value:\n",
    "\n",
    "```python\n",
    "Do nothing = 0\n",
    "Fire right engine = 1\n",
    "Fire main engine = 2\n",
    "Fire left engine = 3\n",
    "```"
   ]
  },
  {
   "cell_type": "code",
   "execution_count": 13,
   "metadata": {
    "deletable": false
   },
   "outputs": [
    {
     "data": {
      "text/html": [
       "<style  type=\"text/css\" >\n",
       "    #T_87423456_5219_11ee_8275_0242ac1200a5 th {\n",
       "          border: 1px solid grey;\n",
       "          text-align: center;\n",
       "    }    #T_87423456_5219_11ee_8275_0242ac1200a5 tbody td {\n",
       "          border: 1px solid grey;\n",
       "          text-align: center;\n",
       "    }    #T_87423456_5219_11ee_8275_0242ac1200a5row0_col0 {\n",
       "            background-color :  grey;\n",
       "        }    #T_87423456_5219_11ee_8275_0242ac1200a5row1_col1 {\n",
       "            background-color :  grey;\n",
       "        }    #T_87423456_5219_11ee_8275_0242ac1200a5row1_col2 {\n",
       "            background-color :  grey;\n",
       "        }    #T_87423456_5219_11ee_8275_0242ac1200a5row1_col3 {\n",
       "            background-color :  grey;\n",
       "        }    #T_87423456_5219_11ee_8275_0242ac1200a5row1_col4 {\n",
       "            background-color :  grey;\n",
       "        }    #T_87423456_5219_11ee_8275_0242ac1200a5row1_col5 {\n",
       "            background-color :  grey;\n",
       "        }    #T_87423456_5219_11ee_8275_0242ac1200a5row1_col6 {\n",
       "            background-color :  grey;\n",
       "        }    #T_87423456_5219_11ee_8275_0242ac1200a5row1_col7 {\n",
       "            background-color :  grey;\n",
       "        }    #T_87423456_5219_11ee_8275_0242ac1200a5row1_col8 {\n",
       "            background-color :  grey;\n",
       "        }    #T_87423456_5219_11ee_8275_0242ac1200a5row1_col9 {\n",
       "            background-color :  grey;\n",
       "        }    #T_87423456_5219_11ee_8275_0242ac1200a5row1_col10 {\n",
       "            background-color :  grey;\n",
       "        }    #T_87423456_5219_11ee_8275_0242ac1200a5row1_col11 {\n",
       "            background-color :  grey;\n",
       "        }    #T_87423456_5219_11ee_8275_0242ac1200a5row2_col0 {\n",
       "            background-color :  grey;\n",
       "        }    #T_87423456_5219_11ee_8275_0242ac1200a5row3_col1 {\n",
       "            background-color :  grey;\n",
       "        }    #T_87423456_5219_11ee_8275_0242ac1200a5row3_col2 {\n",
       "            background-color :  grey;\n",
       "        }    #T_87423456_5219_11ee_8275_0242ac1200a5row3_col3 {\n",
       "            background-color :  grey;\n",
       "        }    #T_87423456_5219_11ee_8275_0242ac1200a5row3_col4 {\n",
       "            background-color :  grey;\n",
       "        }    #T_87423456_5219_11ee_8275_0242ac1200a5row3_col5 {\n",
       "            background-color :  grey;\n",
       "        }    #T_87423456_5219_11ee_8275_0242ac1200a5row3_col6 {\n",
       "            background-color :  grey;\n",
       "        }    #T_87423456_5219_11ee_8275_0242ac1200a5row3_col7 {\n",
       "            background-color :  grey;\n",
       "        }    #T_87423456_5219_11ee_8275_0242ac1200a5row3_col8 {\n",
       "            background-color :  grey;\n",
       "        }    #T_87423456_5219_11ee_8275_0242ac1200a5row3_col9 {\n",
       "            background-color :  grey;\n",
       "        }    #T_87423456_5219_11ee_8275_0242ac1200a5row3_col10 {\n",
       "            background-color :  grey;\n",
       "        }    #T_87423456_5219_11ee_8275_0242ac1200a5row3_col11 {\n",
       "            background-color :  grey;\n",
       "        }    #T_87423456_5219_11ee_8275_0242ac1200a5row4_col1 {\n",
       "            background-color :  grey;\n",
       "        }    #T_87423456_5219_11ee_8275_0242ac1200a5row4_col2 {\n",
       "            background-color :  grey;\n",
       "        }    #T_87423456_5219_11ee_8275_0242ac1200a5row4_col3 {\n",
       "            background-color :  grey;\n",
       "        }    #T_87423456_5219_11ee_8275_0242ac1200a5row4_col4 {\n",
       "            background-color :  grey;\n",
       "        }    #T_87423456_5219_11ee_8275_0242ac1200a5row4_col5 {\n",
       "            background-color :  grey;\n",
       "        }    #T_87423456_5219_11ee_8275_0242ac1200a5row4_col6 {\n",
       "            background-color :  grey;\n",
       "        }    #T_87423456_5219_11ee_8275_0242ac1200a5row4_col7 {\n",
       "            background-color :  grey;\n",
       "        }    #T_87423456_5219_11ee_8275_0242ac1200a5row4_col8 {\n",
       "            background-color :  grey;\n",
       "        }    #T_87423456_5219_11ee_8275_0242ac1200a5row4_col9 {\n",
       "            background-color :  grey;\n",
       "        }    #T_87423456_5219_11ee_8275_0242ac1200a5row4_col10 {\n",
       "            background-color :  grey;\n",
       "        }    #T_87423456_5219_11ee_8275_0242ac1200a5row4_col11 {\n",
       "            background-color :  grey;\n",
       "        }</style><table id=\"T_87423456_5219_11ee_8275_0242ac1200a5\" ><thead>    <tr>        <th class=\"blank level0\" ></th>        <th class=\"col_heading level0 col0\" ></th>        <th class=\"col_heading level0 col1\" colspan=8>State Vector</th>        <th class=\"col_heading level0 col9\" colspan=3>Derived from the State Vector (the closer to zero, the better)</th>    </tr>    <tr>        <th class=\"blank level1\" ></th>        <th class=\"col_heading level1 col0\" ></th>        <th class=\"col_heading level1 col1\" colspan=2>Coordinate</th>        <th class=\"col_heading level1 col3\" colspan=2>Velocity</th>        <th class=\"col_heading level1 col5\" colspan=2>Tilting</th>        <th class=\"col_heading level1 col7\" colspan=2>Ground contact</th>        <th class=\"col_heading level1 col9\" >Distance from landing pad</th>        <th class=\"col_heading level1 col10\" >Velocity</th>        <th class=\"col_heading level1 col11\" >Tilting Angle (absolute value)</th>    </tr>    <tr>        <th class=\"blank level2\" ></th>        <th class=\"col_heading level2 col0\" ></th>        <th class=\"col_heading level2 col1\" >X (Horizontal)</th>        <th class=\"col_heading level2 col2\" >Y (Vertical)</th>        <th class=\"col_heading level2 col3\" >X (Horizontal)</th>        <th class=\"col_heading level2 col4\" >Y (Vertical)</th>        <th class=\"col_heading level2 col5\" >Angle</th>        <th class=\"col_heading level2 col6\" >Angular Velocity</th>        <th class=\"col_heading level2 col7\" >Left Leg?</th>        <th class=\"col_heading level2 col8\" >Right Leg?</th>        <th class=\"col_heading level2 col9\" ></th>        <th class=\"col_heading level2 col10\" ></th>        <th class=\"col_heading level2 col11\" ></th>    </tr></thead><tbody>\n",
       "                <tr>\n",
       "                        <th id=\"T_87423456_5219_11ee_8275_0242ac1200a5level0_row0\" class=\"row_heading level0 row0\" >Current State</th>\n",
       "                        <td id=\"T_87423456_5219_11ee_8275_0242ac1200a5row0_col0\" class=\"data row0 col0\" ></td>\n",
       "                        <td id=\"T_87423456_5219_11ee_8275_0242ac1200a5row0_col1\" class=\"data row0 col1\" >0.007631</td>\n",
       "                        <td id=\"T_87423456_5219_11ee_8275_0242ac1200a5row0_col2\" class=\"data row0 col2\" >1.452910</td>\n",
       "                        <td id=\"T_87423456_5219_11ee_8275_0242ac1200a5row0_col3\" class=\"data row0 col3\" >0.196713</td>\n",
       "                        <td id=\"T_87423456_5219_11ee_8275_0242ac1200a5row0_col4\" class=\"data row0 col4\" >0.426739</td>\n",
       "                        <td id=\"T_87423456_5219_11ee_8275_0242ac1200a5row0_col5\" class=\"data row0 col5\" >-0.007563</td>\n",
       "                        <td id=\"T_87423456_5219_11ee_8275_0242ac1200a5row0_col6\" class=\"data row0 col6\" >-0.053813</td>\n",
       "                        <td id=\"T_87423456_5219_11ee_8275_0242ac1200a5row0_col7\" class=\"data row0 col7\" >False</td>\n",
       "                        <td id=\"T_87423456_5219_11ee_8275_0242ac1200a5row0_col8\" class=\"data row0 col8\" >False</td>\n",
       "                        <td id=\"T_87423456_5219_11ee_8275_0242ac1200a5row0_col9\" class=\"data row0 col9\" >1.452930</td>\n",
       "                        <td id=\"T_87423456_5219_11ee_8275_0242ac1200a5row0_col10\" class=\"data row0 col10\" >0.469896</td>\n",
       "                        <td id=\"T_87423456_5219_11ee_8275_0242ac1200a5row0_col11\" class=\"data row0 col11\" >0.007563</td>\n",
       "            </tr>\n",
       "            <tr>\n",
       "                        <th id=\"T_87423456_5219_11ee_8275_0242ac1200a5level0_row1\" class=\"row_heading level0 row1\" >Action</th>\n",
       "                        <td id=\"T_87423456_5219_11ee_8275_0242ac1200a5row1_col0\" class=\"data row1 col0\" >Do nothing</td>\n",
       "                        <td id=\"T_87423456_5219_11ee_8275_0242ac1200a5row1_col1\" class=\"data row1 col1\" ></td>\n",
       "                        <td id=\"T_87423456_5219_11ee_8275_0242ac1200a5row1_col2\" class=\"data row1 col2\" ></td>\n",
       "                        <td id=\"T_87423456_5219_11ee_8275_0242ac1200a5row1_col3\" class=\"data row1 col3\" ></td>\n",
       "                        <td id=\"T_87423456_5219_11ee_8275_0242ac1200a5row1_col4\" class=\"data row1 col4\" ></td>\n",
       "                        <td id=\"T_87423456_5219_11ee_8275_0242ac1200a5row1_col5\" class=\"data row1 col5\" ></td>\n",
       "                        <td id=\"T_87423456_5219_11ee_8275_0242ac1200a5row1_col6\" class=\"data row1 col6\" ></td>\n",
       "                        <td id=\"T_87423456_5219_11ee_8275_0242ac1200a5row1_col7\" class=\"data row1 col7\" ></td>\n",
       "                        <td id=\"T_87423456_5219_11ee_8275_0242ac1200a5row1_col8\" class=\"data row1 col8\" ></td>\n",
       "                        <td id=\"T_87423456_5219_11ee_8275_0242ac1200a5row1_col9\" class=\"data row1 col9\" ></td>\n",
       "                        <td id=\"T_87423456_5219_11ee_8275_0242ac1200a5row1_col10\" class=\"data row1 col10\" ></td>\n",
       "                        <td id=\"T_87423456_5219_11ee_8275_0242ac1200a5row1_col11\" class=\"data row1 col11\" ></td>\n",
       "            </tr>\n",
       "            <tr>\n",
       "                        <th id=\"T_87423456_5219_11ee_8275_0242ac1200a5level0_row2\" class=\"row_heading level0 row2\" >Next State</th>\n",
       "                        <td id=\"T_87423456_5219_11ee_8275_0242ac1200a5row2_col0\" class=\"data row2 col0\" ></td>\n",
       "                        <td id=\"T_87423456_5219_11ee_8275_0242ac1200a5row2_col1\" class=\"data row2 col1\" >0.009571</td>\n",
       "                        <td id=\"T_87423456_5219_11ee_8275_0242ac1200a5row2_col2\" class=\"data row2 col2\" >1.461911</td>\n",
       "                        <td id=\"T_87423456_5219_11ee_8275_0242ac1200a5row2_col3\" class=\"data row2 col3\" >0.196721</td>\n",
       "                        <td id=\"T_87423456_5219_11ee_8275_0242ac1200a5row2_col4\" class=\"data row2 col4\" >0.400070</td>\n",
       "                        <td id=\"T_87423456_5219_11ee_8275_0242ac1200a5row2_col5\" class=\"data row2 col5\" >-0.010252</td>\n",
       "                        <td id=\"T_87423456_5219_11ee_8275_0242ac1200a5row2_col6\" class=\"data row2 col6\" >-0.053778</td>\n",
       "                        <td id=\"T_87423456_5219_11ee_8275_0242ac1200a5row2_col7\" class=\"data row2 col7\" >False</td>\n",
       "                        <td id=\"T_87423456_5219_11ee_8275_0242ac1200a5row2_col8\" class=\"data row2 col8\" >False</td>\n",
       "                        <td id=\"T_87423456_5219_11ee_8275_0242ac1200a5row2_col9\" class=\"data row2 col9\" >1.461943</td>\n",
       "                        <td id=\"T_87423456_5219_11ee_8275_0242ac1200a5row2_col10\" class=\"data row2 col10\" >0.445820</td>\n",
       "                        <td id=\"T_87423456_5219_11ee_8275_0242ac1200a5row2_col11\" class=\"data row2 col11\" >0.010252</td>\n",
       "            </tr>\n",
       "            <tr>\n",
       "                        <th id=\"T_87423456_5219_11ee_8275_0242ac1200a5level0_row3\" class=\"row_heading level0 row3\" >Reward</th>\n",
       "                        <td id=\"T_87423456_5219_11ee_8275_0242ac1200a5row3_col0\" class=\"data row3 col0\" >1.237430</td>\n",
       "                        <td id=\"T_87423456_5219_11ee_8275_0242ac1200a5row3_col1\" class=\"data row3 col1\" ></td>\n",
       "                        <td id=\"T_87423456_5219_11ee_8275_0242ac1200a5row3_col2\" class=\"data row3 col2\" ></td>\n",
       "                        <td id=\"T_87423456_5219_11ee_8275_0242ac1200a5row3_col3\" class=\"data row3 col3\" ></td>\n",
       "                        <td id=\"T_87423456_5219_11ee_8275_0242ac1200a5row3_col4\" class=\"data row3 col4\" ></td>\n",
       "                        <td id=\"T_87423456_5219_11ee_8275_0242ac1200a5row3_col5\" class=\"data row3 col5\" ></td>\n",
       "                        <td id=\"T_87423456_5219_11ee_8275_0242ac1200a5row3_col6\" class=\"data row3 col6\" ></td>\n",
       "                        <td id=\"T_87423456_5219_11ee_8275_0242ac1200a5row3_col7\" class=\"data row3 col7\" ></td>\n",
       "                        <td id=\"T_87423456_5219_11ee_8275_0242ac1200a5row3_col8\" class=\"data row3 col8\" ></td>\n",
       "                        <td id=\"T_87423456_5219_11ee_8275_0242ac1200a5row3_col9\" class=\"data row3 col9\" ></td>\n",
       "                        <td id=\"T_87423456_5219_11ee_8275_0242ac1200a5row3_col10\" class=\"data row3 col10\" ></td>\n",
       "                        <td id=\"T_87423456_5219_11ee_8275_0242ac1200a5row3_col11\" class=\"data row3 col11\" ></td>\n",
       "            </tr>\n",
       "            <tr>\n",
       "                        <th id=\"T_87423456_5219_11ee_8275_0242ac1200a5level0_row4\" class=\"row_heading level0 row4\" >Episode Terminated</th>\n",
       "                        <td id=\"T_87423456_5219_11ee_8275_0242ac1200a5row4_col0\" class=\"data row4 col0\" >False</td>\n",
       "                        <td id=\"T_87423456_5219_11ee_8275_0242ac1200a5row4_col1\" class=\"data row4 col1\" ></td>\n",
       "                        <td id=\"T_87423456_5219_11ee_8275_0242ac1200a5row4_col2\" class=\"data row4 col2\" ></td>\n",
       "                        <td id=\"T_87423456_5219_11ee_8275_0242ac1200a5row4_col3\" class=\"data row4 col3\" ></td>\n",
       "                        <td id=\"T_87423456_5219_11ee_8275_0242ac1200a5row4_col4\" class=\"data row4 col4\" ></td>\n",
       "                        <td id=\"T_87423456_5219_11ee_8275_0242ac1200a5row4_col5\" class=\"data row4 col5\" ></td>\n",
       "                        <td id=\"T_87423456_5219_11ee_8275_0242ac1200a5row4_col6\" class=\"data row4 col6\" ></td>\n",
       "                        <td id=\"T_87423456_5219_11ee_8275_0242ac1200a5row4_col7\" class=\"data row4 col7\" ></td>\n",
       "                        <td id=\"T_87423456_5219_11ee_8275_0242ac1200a5row4_col8\" class=\"data row4 col8\" ></td>\n",
       "                        <td id=\"T_87423456_5219_11ee_8275_0242ac1200a5row4_col9\" class=\"data row4 col9\" ></td>\n",
       "                        <td id=\"T_87423456_5219_11ee_8275_0242ac1200a5row4_col10\" class=\"data row4 col10\" ></td>\n",
       "                        <td id=\"T_87423456_5219_11ee_8275_0242ac1200a5row4_col11\" class=\"data row4 col11\" ></td>\n",
       "            </tr>\n",
       "    </tbody></table>"
      ],
      "text/plain": [
       "<pandas.io.formats.style.Styler at 0x7fd402892850>"
      ]
     },
     "metadata": {},
     "output_type": "display_data"
    }
   ],
   "source": [
    "# Select an action\n",
    "action = 0\n",
    "\n",
    "# Run a single time step of the environment's dynamics with the given action.\n",
    "next_state, reward, done, _ = env.step(action)\n",
    "\n",
    "# Display table with values.\n",
    "utils.display_table(current_state, action, next_state, reward, done)\n",
    "\n",
    "# Replace the `current_state` with the state after the action is taken\n",
    "current_state = next_state"
   ]
  },
  {
   "cell_type": "markdown",
   "metadata": {},
   "source": [
    "In practice, when we train the agent we use a loop to allow the agent to take many consecutive actions during an episode."
   ]
  },
  {
   "cell_type": "markdown",
   "metadata": {},
   "source": [
    "<a name=\"6\"></a>\n",
    "## 6 - Deep Q-Learning\n",
    "\n",
    "In cases where both the state and action space are discrete we can estimate the action-value function iteratively by using the Bellman equation:\n",
    "\n",
    "$$\n",
    "Q_{i+1}(s,a) = R + \\gamma \\max_{a'}Q_i(s',a')\n",
    "$$\n",
    "\n",
    "This iterative method converges to the optimal action-value function $Q^*(s,a)$ as $i\\to\\infty$. This means that the agent just needs to gradually explore the state-action space and keep updating the estimate of $Q(s,a)$ until it converges to the optimal action-value function $Q^*(s,a)$. However, in cases where the state space is continuous it becomes practically impossible to explore the entire state-action space. Consequently, this also makes it practically impossible to gradually estimate $Q(s,a)$ until it converges to $Q^*(s,a)$.\n",
    "\n",
    "In the Deep $Q$-Learning, we solve this problem by using a neural network to estimate the action-value function $Q(s,a)\\approx Q^*(s,a)$. We call this neural network a $Q$-Network and it can be trained by adjusting its weights at each iteration to minimize the mean-squared error in the Bellman equation.\n",
    "\n",
    "Unfortunately, using neural networks in reinforcement learning to estimate action-value functions has proven to be highly unstable. Luckily, there's a couple of techniques that can be employed to avoid instabilities. These techniques consist of using a ***Target Network*** and ***Experience Replay***. We will explore these two techniques in the following sections."
   ]
  },
  {
   "cell_type": "markdown",
   "metadata": {},
   "source": [
    "<a name=\"6.1\"></a>\n",
    "### 6.1 Target Network\n",
    "\n",
    "We can train the $Q$-Network by adjusting it's weights at each iteration to minimize the mean-squared error in the Bellman equation, where the target values are given by:\n",
    "\n",
    "$$\n",
    "y = R + \\gamma \\max_{a'}Q(s',a';w)\n",
    "$$\n",
    "\n",
    "where $w$ are the weights of the $Q$-Network. This means that we are adjusting the weights $w$ at each iteration to minimize the following error:\n",
    "\n",
    "$$\n",
    "\\overbrace{\\underbrace{R + \\gamma \\max_{a'}Q(s',a'; w)}_{\\rm {y~target}} - Q(s,a;w)}^{\\rm {Error}}\n",
    "$$\n",
    "\n",
    "Notice that this forms a problem because the $y$ target is changing on every iteration. Having a constantly moving target can lead to oscillations and instabilities. To avoid this, we can create\n",
    "a separate neural network for generating the $y$ targets. We call this separate neural network the **target $\\hat Q$-Network** and it will have the same architecture as the original $Q$-Network. By using the target $\\hat Q$-Network, the above error becomes:\n",
    "\n",
    "$$\n",
    "\\overbrace{\\underbrace{R + \\gamma \\max_{a'}\\hat{Q}(s',a'; w^-)}_{\\rm {y~target}} - Q(s,a;w)}^{\\rm {Error}}\n",
    "$$\n",
    "\n",
    "where $w^-$ and $w$ are the weights of the target $\\hat Q$-Network and $Q$-Network, respectively.\n",
    "\n",
    "In practice, we will use the following algorithm: every $C$ time steps we will use the $\\hat Q$-Network to generate the $y$ targets and update the weights of the target $\\hat Q$-Network using the weights of the $Q$-Network. We will update the weights $w^-$ of the the target $\\hat Q$-Network using a **soft update**. This means that we will update the weights $w^-$ using the following rule:\n",
    " \n",
    "$$\n",
    "w^-\\leftarrow \\tau w + (1 - \\tau) w^-\n",
    "$$\n",
    "\n",
    "where $\\tau\\ll 1$. By using the soft update, we are ensuring that the target values, $y$, change slowly, which greatly improves the stability of our learning algorithm."
   ]
  },
  {
   "cell_type": "markdown",
   "metadata": {},
   "source": [
    "<a name=\"ex01\"></a>\n",
    "### Exercise 1\n",
    "\n",
    "In this exercise you will create the $Q$ and target $\\hat Q$ networks and set the optimizer. Remember that the Deep $Q$-Network (DQN) is a neural network that approximates the action-value function $Q(s,a)\\approx Q^*(s,a)$. It does this by learning how to map states to $Q$ values.\n",
    "\n",
    "To solve the Lunar Lander environment, we are going to employ a DQN with the following architecture:\n",
    "\n",
    "* An `Input` layer that takes `state_size` as input.\n",
    "\n",
    "* A `Dense` layer with `64` units and a `relu` activation function.\n",
    "\n",
    "* A `Dense` layer with `64` units and a `relu` activation function.\n",
    "\n",
    "* A `Dense` layer with `num_actions` units and a `linear` activation function. This will be the output layer of our network.\n",
    "\n",
    "\n",
    "In the cell below you should create the $Q$-Network and the target $\\hat Q$-Network using the model architecture described above. Remember that both the $Q$-Network and the target $\\hat Q$-Network have the same architecture.\n",
    "\n",
    "Lastly, you should set `Adam` as the optimizer with a learning rate equal to `ALPHA`. Recall that `ALPHA` was defined in the [Hyperparameters](#2) section. We should note that for this exercise you should use the already imported packages:\n",
    "```python\n",
    "from tensorflow.keras.layers import Dense, Input\n",
    "from tensorflow.keras.optimizers import Adam\n",
    "```"
   ]
  },
  {
   "cell_type": "code",
   "execution_count": 28,
   "metadata": {
    "deletable": false
   },
   "outputs": [],
   "source": [
    "# UNQ_C1\n",
    "# GRADED CELL\n",
    "\n",
    "# Create the Q-Network\n",
    "q_network = Sequential([\n",
    "    ### START CODE HERE ### \n",
    "    Input(shape=state_size),\n",
    "    Dense(64, activation='relu'),\n",
    "    Dense(64, activation='relu'),\n",
    "    Dense(units =num_actions, activation ='linear')\n",
    "    \n",
    "    ### END CODE HERE ### \n",
    "    ])\n",
    "\n",
    "# Create the target Q^-Network\n",
    "target_q_network = Sequential([\n",
    "    ### START CODE HERE ### \n",
    "    Input(shape=state_size),\n",
    "    Dense(64, activation='relu'),\n",
    "    Dense(64, activation='relu'),\n",
    "    Dense(units =num_actions, activation ='linear') \n",
    "    \n",
    "    ### END CODE HERE ###\n",
    "    ])\n",
    "\n",
    "### START CODE HERE ### \n",
    "optimizer = Adam(learning_rate=0.001)\n",
    "### END CODE HERE ###"
   ]
  },
  {
   "cell_type": "code",
   "execution_count": 29,
   "metadata": {
    "deletable": false,
    "editable": false
   },
   "outputs": [
    {
     "name": "stdout",
     "output_type": "stream",
     "text": [
      "\u001b[92mAll tests passed!\n",
      "\u001b[92mAll tests passed!\n",
      "\u001b[92mAll tests passed!\n"
     ]
    }
   ],
   "source": [
    "# UNIT TEST\n",
    "from public_tests import *\n",
    "\n",
    "test_network(q_network)\n",
    "test_network(target_q_network)\n",
    "test_optimizer(optimizer, ALPHA) "
   ]
  },
  {
   "cell_type": "markdown",
   "metadata": {},
   "source": [
    "<details>\n",
    "  <summary><font size=\"3\" color=\"darkgreen\"><b>Click for hints</b></font></summary>\n",
    "    \n",
    "```python\n",
    "# Create the Q-Network\n",
    "q_network = Sequential([\n",
    "    Input(shape=state_size),                      \n",
    "    Dense(units=64, activation='relu'),            \n",
    "    Dense(units=64, activation='relu'),            \n",
    "    Dense(units=num_actions, activation='linear'),\n",
    "    ])\n",
    "\n",
    "# Create the target Q^-Network\n",
    "target_q_network = Sequential([\n",
    "    Input(shape=state_size),                       \n",
    "    Dense(units=64, activation='relu'),            \n",
    "    Dense(units=64, activation='relu'),            \n",
    "    Dense(units=num_actions, activation='linear'), \n",
    "    ])\n",
    "\n",
    "optimizer = Adam(learning_rate=ALPHA)                                  \n",
    "``` "
   ]
  },
  {
   "cell_type": "markdown",
   "metadata": {},
   "source": [
    "<a name=\"6.2\"></a>\n",
    "### 6.2 Experience Replay\n",
    "\n",
    "When an agent interacts with the environment, the states, actions, and rewards the agent experiences are sequential by nature. If the agent tries to learn from these consecutive experiences it can run into problems due to the strong correlations between them. To avoid this, we employ a technique known as **Experience Replay** to generate uncorrelated experiences for training our agent. Experience replay consists of storing the agent's experiences (i.e the states, actions, and rewards the agent receives) in a memory buffer and then sampling a random mini-batch of experiences from the buffer to do the learning. The experience tuples $(S_t, A_t, R_t, S_{t+1})$ will be added to the memory buffer at each time step as the agent interacts with the environment.\n",
    "\n",
    "For convenience, we will store the experiences as named tuples."
   ]
  },
  {
   "cell_type": "code",
   "execution_count": 30,
   "metadata": {
    "deletable": false,
    "editable": false
   },
   "outputs": [],
   "source": [
    "# Store experiences as named tuples\n",
    "experience = namedtuple(\"Experience\", field_names=[\"state\", \"action\", \"reward\", \"next_state\", \"done\"])"
   ]
  },
  {
   "cell_type": "markdown",
   "metadata": {},
   "source": [
    "By using experience replay we avoid problematic correlations, oscillations and instabilities. In addition, experience replay also allows the agent to potentially use the same experience in multiple weight updates, which increases data efficiency."
   ]
  },
  {
   "cell_type": "markdown",
   "metadata": {},
   "source": [
    "<a name=\"7\"></a>\n",
    "## 7 - Deep Q-Learning Algorithm with Experience Replay\n",
    "\n",
    "Now that we know all the techniques that we are going to use, we can put them together to arrive at the Deep Q-Learning Algorithm With Experience Replay.\n",
    "<br>\n",
    "<br>\n",
    "<figure>\n",
    "  <img src = \"images/deep_q_algorithm.png\" width = 90% style = \"border: thin silver solid; padding: 0px\">\n",
    "      <figcaption style = \"text-align: center; font-style: italic\">Fig 3. Deep Q-Learning with Experience Replay.</figcaption>\n",
    "</figure>"
   ]
  },
  {
   "cell_type": "markdown",
   "metadata": {},
   "source": [
    "<a name=\"ex02\"></a>\n",
    "### Exercise 2\n",
    "\n",
    "In this exercise you will implement line ***12*** of the algorithm outlined in *Fig 3* above and you will also compute the loss between the $y$ targets and the $Q(s,a)$ values. In the cell below, complete the `compute_loss` function by setting the $y$ targets equal to:\n",
    "\n",
    "$$\n",
    "\\begin{equation}\n",
    "    y_j =\n",
    "    \\begin{cases}\n",
    "      R_j & \\text{if episode terminates at step  } j+1\\\\\n",
    "      R_j + \\gamma \\max_{a'}\\hat{Q}(s_{j+1},a') & \\text{otherwise}\\\\\n",
    "    \\end{cases}       \n",
    "\\end{equation}\n",
    "$$\n",
    "\n",
    "Here are a couple of things to note:\n",
    "\n",
    "* The `compute_loss` function takes in a mini-batch of experience tuples. This mini-batch of experience tuples is unpacked to extract the `states`, `actions`, `rewards`, `next_states`, and `done_vals`. You should keep in mind that these variables are *TensorFlow Tensors* whose size will depend on the mini-batch size. For example, if the mini-batch size is `64` then both `rewards` and `done_vals` will be TensorFlow Tensors with `64` elements.\n",
    "\n",
    "\n",
    "* Using `if/else` statements to set the $y$ targets will not work when the variables are tensors with many elements. However, notice that you can use the `done_vals` to implement the above in a single line of code. To do this, recall that the `done` variable is a Boolean variable that takes the value `True` when an episode terminates at step $j+1$ and it is `False` otherwise. Taking into account that a Boolean value of `True` has the numerical value of `1` and a Boolean value of `False` has the numerical value of `0`, you can use the factor `(1 - done_vals)` to implement the above in a single line of code. Here's a hint: notice that `(1 - done_vals)` has a value of `0` when `done_vals` is `True` and a value of `1` when `done_vals` is `False`. \n",
    "\n",
    "Lastly, compute the loss by calculating the Mean-Squared Error (`MSE`) between the `y_targets` and the `q_values`. To calculate the mean-squared error you should use the already imported package `MSE`:\n",
    "```python\n",
    "from tensorflow.keras.losses import MSE\n",
    "```"
   ]
  },
  {
   "cell_type": "code",
   "execution_count": 33,
   "metadata": {
    "deletable": false
   },
   "outputs": [],
   "source": [
    "# UNQ_C2\n",
    "# GRADED FUNCTION: calculate_loss\n",
    "\n",
    "def compute_loss(experiences, gamma, q_network, target_q_network):\n",
    "    \"\"\" \n",
    "    Calculates the loss.\n",
    "    \n",
    "    Args:\n",
    "      experiences: (tuple) tuple of [\"state\", \"action\", \"reward\", \"next_state\", \"done\"] namedtuples\n",
    "      gamma: (float) The discount factor.\n",
    "      q_network: (tf.keras.Sequential) Keras model for predicting the q_values\n",
    "      target_q_network: (tf.keras.Sequential) Keras model for predicting the targets\n",
    "          \n",
    "    Returns:\n",
    "      loss: (TensorFlow Tensor(shape=(0,), dtype=int32)) the Mean-Squared Error between\n",
    "            the y targets and the Q(s,a) values.\n",
    "    \"\"\"\n",
    "\n",
    "    # Unpack the mini-batch of experience tuples\n",
    "    states, actions, rewards, next_states, done_vals = experiences\n",
    "    \n",
    "    # Compute max Q^(s,a)\n",
    "    max_qsa = tf.reduce_max(target_q_network(next_states), axis=-1)\n",
    "    \n",
    "    # Set y = R if episode terminates, otherwise set y = R + γ max Q^(s,a).\n",
    "    ### START CODE HERE ### \n",
    "    y_targets = rewards+(gamma* max_qsa*(1-done_vals))\n",
    "    ### END CODE HERE ###\n",
    "    \n",
    "    # Get the q_values and reshape to match y_targets\n",
    "    q_values = q_network(states)\n",
    "    q_values = tf.gather_nd(q_values, tf.stack([tf.range(q_values.shape[0]),\n",
    "                                                tf.cast(actions, tf.int32)], axis=1))\n",
    "        \n",
    "    # Compute the loss\n",
    "    ### START CODE HERE ### \n",
    "    loss = MSE(y_targets, q_values) \n",
    "    ### END CODE HERE ### \n",
    "    \n",
    "    return loss"
   ]
  },
  {
   "cell_type": "code",
   "execution_count": 34,
   "metadata": {
    "deletable": false,
    "editable": false
   },
   "outputs": [
    {
     "name": "stdout",
     "output_type": "stream",
     "text": [
      "\u001b[92mAll tests passed!\n"
     ]
    }
   ],
   "source": [
    "# UNIT TEST    \n",
    "test_compute_loss(compute_loss)"
   ]
  },
  {
   "cell_type": "markdown",
   "metadata": {},
   "source": [
    "<details>\n",
    "  <summary><font size=\"3\" color=\"darkgreen\"><b>Click for hints</b></font></summary>\n",
    "    \n",
    "```python\n",
    "def compute_loss(experiences, gamma, q_network, target_q_network):\n",
    "    \"\"\" \n",
    "    Calculates the loss.\n",
    "    \n",
    "    Args:\n",
    "      experiences: (tuple) tuple of [\"state\", \"action\", \"reward\", \"next_state\", \"done\"] namedtuples\n",
    "      gamma: (float) The discount factor.\n",
    "      q_network: (tf.keras.Sequential) Keras model for predicting the q_values\n",
    "      target_q_network: (tf.keras.Sequential) Keras model for predicting the targets\n",
    "          \n",
    "    Returns:\n",
    "      loss: (TensorFlow Tensor(shape=(0,), dtype=int32)) the Mean-Squared Error between\n",
    "            the y targets and the Q(s,a) values.\n",
    "    \"\"\"\n",
    "\n",
    "    \n",
    "    # Unpack the mini-batch of experience tuples\n",
    "    states, actions, rewards, next_states, done_vals = experiences\n",
    "    \n",
    "    # Compute max Q^(s,a)\n",
    "    max_qsa = tf.reduce_max(target_q_network(next_states), axis=-1)\n",
    "    \n",
    "    # Set y = R if episode terminates, otherwise set y = R + γ max Q^(s,a).\n",
    "    y_targets = rewards + (gamma * max_qsa * (1 - done_vals))\n",
    "    \n",
    "    # Get the q_values\n",
    "    q_values = q_network(states)\n",
    "    q_values = tf.gather_nd(q_values, tf.stack([tf.range(q_values.shape[0]),\n",
    "                                                tf.cast(actions, tf.int32)], axis=1))\n",
    "    \n",
    "    # Calculate the loss\n",
    "    loss = MSE(y_targets, q_values)\n",
    "    \n",
    "    return loss\n",
    "\n",
    "``` \n",
    "    "
   ]
  },
  {
   "cell_type": "markdown",
   "metadata": {},
   "source": [
    "<a name=\"8\"></a>\n",
    "## 8 - Update the Network Weights\n",
    "\n",
    "We will use the `agent_learn` function below to implement lines ***12 -14*** of the algorithm outlined in [Fig 3](#7). The `agent_learn` function will update the weights of the $Q$ and target $\\hat Q$ networks using a custom training loop. Because we are using a custom training loop we need to retrieve the gradients via a `tf.GradientTape` instance, and then call `optimizer.apply_gradients()` to update the weights of our $Q$-Network. Note that we are also using the `@tf.function` decorator to increase performance. Without this decorator our training will take twice as long. If you would like to know more about how to increase performance with `@tf.function` take a look at the [TensorFlow documentation](https://www.tensorflow.org/guide/function).\n",
    "\n",
    "The last line of this function updates the weights of the target $\\hat Q$-Network using a [soft update](#6.1). If you want to know how this is implemented in code we encourage you to take a look at the `utils.update_target_network` function in the `utils` module."
   ]
  },
  {
   "cell_type": "code",
   "execution_count": 35,
   "metadata": {
    "deletable": false,
    "editable": false
   },
   "outputs": [],
   "source": [
    "@tf.function\n",
    "def agent_learn(experiences, gamma):\n",
    "    \"\"\"\n",
    "    Updates the weights of the Q networks.\n",
    "    \n",
    "    Args:\n",
    "      experiences: (tuple) tuple of [\"state\", \"action\", \"reward\", \"next_state\", \"done\"] namedtuples\n",
    "      gamma: (float) The discount factor.\n",
    "    \n",
    "    \"\"\"\n",
    "    \n",
    "    # Calculate the loss\n",
    "    with tf.GradientTape() as tape:\n",
    "        loss = compute_loss(experiences, gamma, q_network, target_q_network)\n",
    "\n",
    "    # Get the gradients of the loss with respect to the weights.\n",
    "    gradients = tape.gradient(loss, q_network.trainable_variables)\n",
    "    \n",
    "    # Update the weights of the q_network.\n",
    "    optimizer.apply_gradients(zip(gradients, q_network.trainable_variables))\n",
    "\n",
    "    # update the weights of target q_network\n",
    "    utils.update_target_network(q_network, target_q_network)"
   ]
  },
  {
   "cell_type": "markdown",
   "metadata": {},
   "source": [
    "<a name=\"9\"></a>\n",
    "## 9 - Train the Agent\n",
    "\n",
    "We are now ready to train our agent to solve the Lunar Lander environment. In the cell below we will implement the algorithm in [Fig 3](#7) line by line (please note that we have included the same algorithm below for easy reference. This will prevent you from scrolling up and down the notebook):\n",
    "\n",
    "* **Line 1**: We initialize the `memory_buffer` with a capacity of $N =$ `MEMORY_SIZE`. Notice that we are using a `deque` as the data structure for our `memory_buffer`.\n",
    "\n",
    "\n",
    "* **Line 2**: We skip this line since we already initialized the `q_network` in [Exercise 1](#ex01).\n",
    "\n",
    "\n",
    "* **Line 3**: We initialize the `target_q_network` by setting its weights to be equal to those of the `q_network`.\n",
    "\n",
    "\n",
    "* **Line 4**: We start the outer loop. Notice that we have set $M =$ `num_episodes = 2000`. This number is reasonable because the agent should be able to solve the Lunar Lander environment in less than `2000` episodes using this notebook's default parameters.\n",
    "\n",
    "\n",
    "* **Line 5**: We use the `.reset()` method to reset the environment to the initial state and get the initial state.\n",
    "\n",
    "\n",
    "* **Line 6**: We start the inner loop. Notice that we have set $T =$ `max_num_timesteps = 1000`. This means that the episode will automatically terminate if the episode hasn't terminated after `1000` time steps.\n",
    "\n",
    "\n",
    "* **Line 7**: The agent observes the current `state` and chooses an `action` using an $\\epsilon$-greedy policy. Our agent starts out using a value of $\\epsilon =$ `epsilon = 1` which yields an $\\epsilon$-greedy policy that is equivalent to the equiprobable random policy. This means that at the beginning of our training, the agent is just going to take random actions regardless of the observed `state`. As training progresses we will decrease the value of $\\epsilon$ slowly towards a minimum value using a given $\\epsilon$-decay rate. We want this minimum value to be close to zero because a value of $\\epsilon = 0$ will yield an $\\epsilon$-greedy policy that is equivalent to the greedy policy. This means that towards the end of training, the agent will lean towards selecting the `action` that it believes (based on its past experiences) will maximize $Q(s,a)$. We will set the minimum $\\epsilon$ value to be `0.01` and not exactly 0 because we always want to keep a little bit of exploration during training. If you want to know how this is implemented in code we encourage you to take a look at the `utils.get_action` function in the `utils` module.\n",
    "\n",
    "\n",
    "* **Line 8**: We use the `.step()` method to take the given `action` in the environment and get the `reward` and the `next_state`. \n",
    "\n",
    "\n",
    "* **Line 9**: We store the `experience(state, action, reward, next_state, done)` tuple in our `memory_buffer`. Notice that we also store the `done` variable so that we can keep track of when an episode terminates. This allowed us to set the $y$ targets in [Exercise 2](#ex02).\n",
    "\n",
    "\n",
    "* **Line 10**: We check if the conditions are met to perform a learning update. We do this by using our custom `utils.check_update_conditions` function. This function checks if $C =$ `NUM_STEPS_FOR_UPDATE = 4` time steps have occured and if our `memory_buffer` has enough experience tuples to fill a mini-batch. For example, if the mini-batch size is `64`, then our `memory_buffer` should have more than `64` experience tuples in order to pass the latter condition. If the conditions are met, then the `utils.check_update_conditions` function will return a value of `True`, otherwise it will return a value of `False`.\n",
    "\n",
    "\n",
    "* **Lines 11 - 14**: If the `update` variable is `True` then we perform a learning update. The learning update consists of sampling a random mini-batch of experience tuples from our `memory_buffer`, setting the $y$ targets, performing gradient descent, and updating the weights of the networks. We will use the `agent_learn` function we defined in [Section 8](#8) to perform the latter 3.\n",
    "\n",
    "\n",
    "* **Line 15**: At the end of each iteration of the inner loop we set `next_state` as our new `state` so that the loop can start again from this new state. In addition, we check if the episode has reached a terminal state (i.e we check if `done = True`). If a terminal state has been reached, then we break out of the inner loop.\n",
    "\n",
    "\n",
    "* **Line 16**: At the end of each iteration of the outer loop we update the value of $\\epsilon$, and check if the environment has been solved. We consider that the environment has been solved if the agent receives an average of `200` points in the last `100` episodes. If the environment has not been solved we continue the outer loop and start a new episode.\n",
    "\n",
    "Finally, we wanted to note that we have included some extra variables to keep track of the total number of points the agent received in each episode. This will help us determine if the agent has solved the environment and it will also allow us to see how our agent performed during training. We also use the `time` module to measure how long the training takes. \n",
    "\n",
    "<br>\n",
    "<br>\n",
    "<figure>\n",
    "  <img src = \"images/deep_q_algorithm.png\" width = 90% style = \"border: thin silver solid; padding: 0px\">\n",
    "      <figcaption style = \"text-align: center; font-style: italic\">Fig 4. Deep Q-Learning with Experience Replay.</figcaption>\n",
    "</figure>\n",
    "<br>\n",
    "\n",
    "**Note:** With this notebook's default parameters, the following cell takes between 10 to 15 minutes to run. "
   ]
  },
  {
   "cell_type": "code",
   "execution_count": 36,
   "metadata": {
    "deletable": false,
    "editable": false
   },
   "outputs": [
    {
     "name": "stdout",
     "output_type": "stream",
     "text": [
      "Episode 100 | Total point average of the last 100 episodes: -155.57\n",
      "Episode 200 | Total point average of the last 100 episodes: -90.045\n",
      "Episode 300 | Total point average of the last 100 episodes: -33.74\n",
      "Episode 400 | Total point average of the last 100 episodes: 71.954\n",
      "Episode 470 | Total point average of the last 100 episodes: 200.06\n",
      "\n",
      "Environment solved in 470 episodes!\n",
      "\n",
      "Total Runtime: 566.25 s (9.44 min)\n"
     ]
    }
   ],
   "source": [
    "start = time.time()\n",
    "\n",
    "num_episodes = 2000\n",
    "max_num_timesteps = 1000\n",
    "\n",
    "total_point_history = []\n",
    "\n",
    "num_p_av = 100    # number of total points to use for averaging\n",
    "epsilon = 1.0     # initial ε value for ε-greedy policy\n",
    "\n",
    "# Create a memory buffer D with capacity N\n",
    "memory_buffer = deque(maxlen=MEMORY_SIZE)\n",
    "\n",
    "# Set the target network weights equal to the Q-Network weights\n",
    "target_q_network.set_weights(q_network.get_weights())\n",
    "\n",
    "for i in range(num_episodes):\n",
    "    \n",
    "    # Reset the environment to the initial state and get the initial state\n",
    "    state = env.reset()\n",
    "    total_points = 0\n",
    "    \n",
    "    for t in range(max_num_timesteps):\n",
    "        \n",
    "        # From the current state S choose an action A using an ε-greedy policy\n",
    "        state_qn = np.expand_dims(state, axis=0)  # state needs to be the right shape for the q_network\n",
    "        q_values = q_network(state_qn)\n",
    "        action = utils.get_action(q_values, epsilon)\n",
    "        \n",
    "        # Take action A and receive reward R and the next state S'\n",
    "        next_state, reward, done, _ = env.step(action)\n",
    "        \n",
    "        # Store experience tuple (S,A,R,S') in the memory buffer.\n",
    "        # We store the done variable as well for convenience.\n",
    "        memory_buffer.append(experience(state, action, reward, next_state, done))\n",
    "        \n",
    "        # Only update the network every NUM_STEPS_FOR_UPDATE time steps.\n",
    "        update = utils.check_update_conditions(t, NUM_STEPS_FOR_UPDATE, memory_buffer)\n",
    "        \n",
    "        if update:\n",
    "            # Sample random mini-batch of experience tuples (S,A,R,S') from D\n",
    "            experiences = utils.get_experiences(memory_buffer)\n",
    "            \n",
    "            # Set the y targets, perform a gradient descent step,\n",
    "            # and update the network weights.\n",
    "            agent_learn(experiences, GAMMA)\n",
    "        \n",
    "        state = next_state.copy()\n",
    "        total_points += reward\n",
    "        \n",
    "        if done:\n",
    "            break\n",
    "            \n",
    "    total_point_history.append(total_points)\n",
    "    av_latest_points = np.mean(total_point_history[-num_p_av:])\n",
    "    \n",
    "    # Update the ε value\n",
    "    epsilon = utils.get_new_eps(epsilon)\n",
    "\n",
    "    print(f\"\\rEpisode {i+1} | Total point average of the last {num_p_av} episodes: {av_latest_points:.2f}\", end=\"\")\n",
    "\n",
    "    if (i+1) % num_p_av == 0:\n",
    "        print(f\"\\rEpisode {i+1} | Total point average of the last {num_p_av} episodes: {av_latest_points:.2f}\")\n",
    "\n",
    "    # We will consider that the environment is solved if we get an\n",
    "    # average of 200 points in the last 100 episodes.\n",
    "    if av_latest_points >= 200.0:\n",
    "        print(f\"\\n\\nEnvironment solved in {i+1} episodes!\")\n",
    "        q_network.save('lunar_lander_model.h5')\n",
    "        break\n",
    "        \n",
    "tot_time = time.time() - start\n",
    "\n",
    "print(f\"\\nTotal Runtime: {tot_time:.2f} s ({(tot_time/60):.2f} min)\")"
   ]
  },
  {
   "cell_type": "markdown",
   "metadata": {},
   "source": [
    "We can plot the total point history along with the moving average to see how our agent improved during training. If you want to know about the different plotting options available in the `utils.plot_history` function we encourage you to take a look at the `utils` module."
   ]
  },
  {
   "cell_type": "code",
   "execution_count": 37,
   "metadata": {
    "deletable": false,
    "editable": false,
    "id": "E_EUXxurfe8m",
    "scrolled": false
   },
   "outputs": [
    {
     "data": {
      "image/png": "[encoded data removed]",
      "text/plain": [
       "<Figure size 720x504 with 1 Axes>"
      ]
     },
     "metadata": {},
     "output_type": "display_data"
    }
   ],
   "source": [
    "# Plot the total point history along with the moving average\n",
    "utils.plot_history(total_point_history)"
   ]
  },
  {
   "cell_type": "markdown",
   "metadata": {
    "id": "c_xwgaX5MnYt"
   },
   "source": [
    "<a name=\"10\"></a>\n",
    "## 10 - See the Trained Agent In Action\n",
    "\n",
    "Now that we have trained our agent, we can see it in action. We will use the `utils.create_video` function to create a video of our agent interacting with the environment using the trained $Q$-Network. The `utils.create_video` function uses the `imageio` library to create the video. This library produces some warnings that can be distracting, so, to suppress these warnings we run the code below."
   ]
  },
  {
   "cell_type": "code",
   "execution_count": 38,
   "metadata": {
    "deletable": false,
    "editable": false
   },
   "outputs": [],
   "source": [
    "# Suppress warnings from imageio\n",
    "import logging\n",
    "logging.getLogger().setLevel(logging.ERROR)"
   ]
  },
  {
   "cell_type": "markdown",
   "metadata": {},
   "source": [
    "In the cell below we create a video of our agent interacting with the Lunar Lander environment using the trained `q_network`. The video is saved to the `videos` folder with the given `filename`. We use the `utils.embed_mp4` function to embed the video in the Jupyter Notebook so that we can see it here directly without having to download it.\n",
    "\n",
    "We should note that since the lunar lander starts with a random initial force applied to its center of mass, every time you run the cell below you will see a different video. If the agent was trained properly, it should be able to land the lunar lander in the landing pad every time, regardless of the initial force applied to its center of mass."
   ]
  },
  {
   "cell_type": "code",
   "execution_count": 39,
   "metadata": {
    "deletable": false,
    "editable": false,
    "id": "3Ttb_zLeJKiG"
   },
   "outputs": [
    {
     "data": {
      "text/html": [
       "\n",
       "    <video width=\"840\" height=\"480\" controls>\n",
       "    <source src=\"data:video/mp4;base64,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\" type=\"video/mp4\">\n",
       "    Your browser does not support the video tag.\n",
       "    </video>"
      ],
      "text/plain": [
       "<IPython.core.display.HTML object>"
      ]
     },
     "execution_count": 39,
     "metadata": {},
     "output_type": "execute_result"
    }
   ],
   "source": [
    "filename = \"./videos/lunar_lander.mp4\"\n",
    "\n",
    "utils.create_video(filename, env, q_network)\n",
    "utils.embed_mp4(filename)"
   ]
  },
  {
   "cell_type": "markdown",
   "metadata": {},
   "source": [
    "<a name=\"11\"></a>\n",
    "## 11 - Congratulations!\n",
    "\n",
    "You have successfully used Deep Q-Learning with Experience Replay to train an agent to land a lunar lander safely on a landing pad on the surface of the moon. Congratulations!"
   ]
  },
  {
   "cell_type": "markdown",
   "metadata": {},
   "source": [
    "<a name=\"12\"></a>\n",
    "## 12 - References\n",
    "\n",
    "If you would like to learn more about Deep Q-Learning, we recommend you check out the following papers.\n",
    "\n",
    "\n",
    "* Mnih, V., Kavukcuoglu, K., Silver, D. et al. Human-level control through deep reinforcement learning. Nature 518, 529–533 (2015).\n",
    "\n",
    "\n",
    "* Lillicrap, T. P., Hunt, J. J., Pritzel, A., et al. Continuous Control with Deep Reinforcement Learning. ICLR (2016).\n",
    "\n",
    "\n",
    "* Mnih, V., Kavukcuoglu, K., Silver, D. et al. Playing Atari with Deep Reinforcement Learning. arXiv e-prints.  arXiv:1312.5602 (2013)."
   ]
  },
  {
   "cell_type": "markdown",
   "metadata": {},
   "source": [
    "<details>\n",
    "  <summary><font size=\"2\" color=\"darkgreen\"><b>Please click here if you want to experiment with any of the non-graded code.</b></font></summary>\n",
    "    <p><i><b>Important Note: Please only do this when you've already passed the assignment to avoid problems with the autograder.</b></i>\n",
    "    <ol>\n",
    "        <li> On the notebook’s menu, click “View” > “Cell Toolbar” > “Edit Metadata”</li>\n",
    "        <li> Hit the “Edit Metadata” button next to the code cell which you want to lock/unlock</li>\n",
    "        <li> Set the attribute value for “editable” to:\n",
    "            <ul>\n",
    "                <li> “true” if you want to unlock it </li>\n",
    "                <li> “false” if you want to lock it </li>\n",
    "            </ul>\n",
    "        </li>\n",
    "        <li> On the notebook’s menu, click “View” > “Cell Toolbar” > “None” </li>\n",
    "    </ol>\n",
    "    <p> Here's a short demo of how to do the steps above: \n",
    "        <br>\n",
    "        <img src=\"https://drive.google.com/uc?export=view&id=14Xy_Mb17CZVgzVAgq7NCjMVBvSae3xO1\" align=\"center\" alt=\"unlock_cells.gif\">\n",
    "</details>"
   ]
  },
  {
   "cell_type": "code",
   "execution_count": null,
   "metadata": {},
   "outputs": [],
   "source": []
  }
 ],
 "metadata": {
  "accelerator": "GPU",
  "colab": {
   "collapsed_sections": [],
   "name": "TensorFlow - Lunar Lander.ipynb",
   "provenance": []
  },
  "kernelspec": {
   "display_name": "Python 3",
   "language": "python",
   "name": "python3"
  },
  "language_info": {
   "codemirror_mode": {
    "name": "ipython",
    "version": 3
   },
   "file_extension": ".py",
   "mimetype": "text/x-python",
   "name": "python",
   "nbconvert_exporter": "python",
   "pygments_lexer": "ipython3",
   "version": "3.7.6"
  }
 },
 "nbformat": 4,
 "nbformat_minor": 1
}
